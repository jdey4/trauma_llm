{
 "cells": [
  {
   "cell_type": "code",
   "execution_count": 1,
   "id": "c83eb452",
   "metadata": {},
   "outputs": [
    {
     "name": "stderr",
     "output_type": "stream",
     "text": [
      "/opt/anaconda3/envs/torch/lib/python3.12/site-packages/tqdm/auto.py:21: TqdmWarning: IProgress not found. Please update jupyter and ipywidgets. See https://ipywidgets.readthedocs.io/en/stable/user_install.html\n",
      "  from .autonotebook import tqdm as notebook_tqdm\n"
     ]
    }
   ],
   "source": [
    "from datasets import load_dataset\n",
    "from google import genai\n",
    "from tenacity import retry, wait_exponential, stop_after_attempt\n",
    "import os\n",
    "import time\n",
    "import pandas as pd\n",
    "from scipy.spatial.distance import cosine\n",
    "import pickle\n",
    "from tqdm import tqdm "
   ]
  },
  {
   "cell_type": "code",
   "execution_count": 2,
   "id": "93841597",
   "metadata": {},
   "outputs": [
    {
     "name": "stdout",
     "output_type": "stream",
     "text": [
      "Loaded 5749 examples. Sample:\n",
      "{'sentence1': 'A plane is taking off.', 'sentence2': 'An air plane is taking off.', 'score': 1.0} \n",
      "\n"
     ]
    }
   ],
   "source": [
    "# Load dataset\n",
    "dataset = load_dataset(\"sentence-transformers/stsb\", split=\"train\")\n",
    "print(f\"Loaded {len(dataset)} examples. Sample:\")\n",
    "print(dataset[0], \"\\n\")\n"
   ]
  },
  {
   "cell_type": "code",
   "execution_count": 3,
   "id": "b27f4756",
   "metadata": {},
   "outputs": [],
   "source": [
    "# Set your OpenAI API key (best via environment variable)\n",
    "client = genai.Client(api_key=os.getenv(\"GOOGLE_GENERATIVE_AI_API_KEY\")) "
   ]
  },
  {
   "cell_type": "code",
   "execution_count": 4,
   "id": "782c6842",
   "metadata": {},
   "outputs": [],
   "source": [
    "# Function to get embedding\n",
    "@retry(wait=wait_exponential(multiplier=1, min=4, max=60), stop=stop_after_attempt(5))\n",
    "def get_embedding(text, model_name=\"gemini-embedding-001\"):\n",
    "    try:\n",
    "        response = client.models.embed_content(\n",
    "            model = model_name,\n",
    "            contents=text\n",
    "        )\n",
    "\n",
    "        return response.embeddings\n",
    "    \n",
    "    except Exception as e:\n",
    "        print(f\"Error for text: {text[:30]}... => {e}\")\n",
    "        return None"
   ]
  },
  {
   "cell_type": "code",
   "execution_count": 6,
   "id": "c0750870",
   "metadata": {},
   "outputs": [
    {
     "name": "stdout",
     "output_type": "stream",
     "text": [
      "Extracting embedding and measuring similarity ...\n"
     ]
    },
    {
     "name": "stderr",
     "output_type": "stream",
     "text": [
      "100%|██████████| 5749/5749 [2:26:25<00:00,  1.53s/it]  \n"
     ]
    }
   ],
   "source": [
    "# Generate embeddings for the first few sentence pairs (do not run without need, save results, costs money)\n",
    "model_name = 'gemini-embedding-001'\n",
    "file_to_save = 'gemini_text-'+model_name+'.pickle'\n",
    "embeddings = pd.DataFrame()\n",
    "sentence1 = []\n",
    "sentence2 = []\n",
    "embedding1 = []\n",
    "embedding2 = []\n",
    "cosine_similarity = []\n",
    "human_score = []\n",
    "\n",
    "print('Extracting embedding and measuring similarity ...')\n",
    "time.sleep(1)\n",
    "for idx in tqdm(range(len(dataset))):\n",
    "    first_sentence = dataset[idx][\"sentence1\"]\n",
    "    emb1 = list(get_embedding(first_sentence, model_name)[0])[0][1]\n",
    "    sentence1.append(\n",
    "        first_sentence\n",
    "    )\n",
    "    embedding1.append(\n",
    "        emb1\n",
    "    )\n",
    "    #############################\n",
    "    second_sentence = dataset[idx][\"sentence2\"]\n",
    "    emb2 = list(get_embedding(second_sentence, model_name)[0])[0][1]\n",
    "    sentence2.append(\n",
    "        second_sentence\n",
    "    )\n",
    "    embedding2.append(\n",
    "        emb2\n",
    "    )\n",
    "    \n",
    "    ############################\n",
    "    cosine_similarity.append(\n",
    "        1 - cosine(emb1, emb2)\n",
    "    )\n",
    "    human_score.append(\n",
    "        dataset[idx][\"score\"]\n",
    "    )\n",
    "    \n",
    "    time.sleep(1)  # respect rate limits!\n",
    "\n",
    "embeddings['Sentence 1'] = sentence1\n",
    "embeddings['Sentence 2'] = sentence2\n",
    "embeddings['Embedding of Sentence 1'] = embedding1\n",
    "embeddings['Embedding of Sentence 2'] = embedding2\n",
    "embeddings['Cosine similarity'] = cosine_similarity\n",
    "embeddings['Human score'] = human_score\n",
    "\n",
    "with open(file_to_save, 'wb') as f:\n",
    "    pickle.dump(embeddings, f)"
   ]
  },
  {
   "cell_type": "code",
   "execution_count": 7,
   "id": "660b6c03",
   "metadata": {},
   "outputs": [
    {
     "data": {
      "text/html": [
       "<div>\n",
       "<style scoped>\n",
       "    .dataframe tbody tr th:only-of-type {\n",
       "        vertical-align: middle;\n",
       "    }\n",
       "\n",
       "    .dataframe tbody tr th {\n",
       "        vertical-align: top;\n",
       "    }\n",
       "\n",
       "    .dataframe thead th {\n",
       "        text-align: right;\n",
       "    }\n",
       "</style>\n",
       "<table border=\"1\" class=\"dataframe\">\n",
       "  <thead>\n",
       "    <tr style=\"text-align: right;\">\n",
       "      <th></th>\n",
       "      <th>Sentence 1</th>\n",
       "      <th>Sentence 2</th>\n",
       "      <th>Embedding of Sentence 1</th>\n",
       "      <th>Embedding of Sentence 2</th>\n",
       "      <th>Cosine similarity</th>\n",
       "      <th>Human score</th>\n",
       "    </tr>\n",
       "  </thead>\n",
       "  <tbody>\n",
       "    <tr>\n",
       "      <th>0</th>\n",
       "      <td>A plane is taking off.</td>\n",
       "      <td>An air plane is taking off.</td>\n",
       "      <td>[-0.03038812, 0.028442184, 0.0040001837, -0.08...</td>\n",
       "      <td>[-0.027468763, 0.037402656, 0.014797646, -0.07...</td>\n",
       "      <td>0.960455</td>\n",
       "      <td>1.00</td>\n",
       "    </tr>\n",
       "    <tr>\n",
       "      <th>1</th>\n",
       "      <td>A man is playing a large flute.</td>\n",
       "      <td>A man is playing a flute.</td>\n",
       "      <td>[-0.02655112, -0.00027439563, 0.008827717, -0....</td>\n",
       "      <td>[-0.038136486, 0.01199731, 0.013802515, -0.111...</td>\n",
       "      <td>0.915832</td>\n",
       "      <td>0.76</td>\n",
       "    </tr>\n",
       "    <tr>\n",
       "      <th>2</th>\n",
       "      <td>A man is spreading shreded cheese on a pizza.</td>\n",
       "      <td>A man is spreading shredded cheese on an uncoo...</td>\n",
       "      <td>[-0.038540676, 0.015014919, 0.027023548, -0.03...</td>\n",
       "      <td>[-0.031529076, 0.017592212, 0.0175504, -0.0346...</td>\n",
       "      <td>0.960580</td>\n",
       "      <td>0.76</td>\n",
       "    </tr>\n",
       "    <tr>\n",
       "      <th>3</th>\n",
       "      <td>Three men are playing chess.</td>\n",
       "      <td>Two men are playing chess.</td>\n",
       "      <td>[-0.009992072, -0.009598609, -0.0011456223, -0...</td>\n",
       "      <td>[-0.030862274, 0.006396856, -0.0153435385, -0....</td>\n",
       "      <td>0.885713</td>\n",
       "      <td>0.52</td>\n",
       "    </tr>\n",
       "    <tr>\n",
       "      <th>4</th>\n",
       "      <td>A man is playing the cello.</td>\n",
       "      <td>A man seated is playing the cello.</td>\n",
       "      <td>[-0.04253136, 0.019396903, -0.008048837, -0.09...</td>\n",
       "      <td>[-0.037090085, 0.028250685, -0.0085480325, -0....</td>\n",
       "      <td>0.937368</td>\n",
       "      <td>0.85</td>\n",
       "    </tr>\n",
       "  </tbody>\n",
       "</table>\n",
       "</div>"
      ],
      "text/plain": [
       "                                      Sentence 1  \\\n",
       "0                         A plane is taking off.   \n",
       "1                A man is playing a large flute.   \n",
       "2  A man is spreading shreded cheese on a pizza.   \n",
       "3                   Three men are playing chess.   \n",
       "4                    A man is playing the cello.   \n",
       "\n",
       "                                          Sentence 2  \\\n",
       "0                        An air plane is taking off.   \n",
       "1                          A man is playing a flute.   \n",
       "2  A man is spreading shredded cheese on an uncoo...   \n",
       "3                         Two men are playing chess.   \n",
       "4                 A man seated is playing the cello.   \n",
       "\n",
       "                             Embedding of Sentence 1  \\\n",
       "0  [-0.03038812, 0.028442184, 0.0040001837, -0.08...   \n",
       "1  [-0.02655112, -0.00027439563, 0.008827717, -0....   \n",
       "2  [-0.038540676, 0.015014919, 0.027023548, -0.03...   \n",
       "3  [-0.009992072, -0.009598609, -0.0011456223, -0...   \n",
       "4  [-0.04253136, 0.019396903, -0.008048837, -0.09...   \n",
       "\n",
       "                             Embedding of Sentence 2  Cosine similarity  \\\n",
       "0  [-0.027468763, 0.037402656, 0.014797646, -0.07...           0.960455   \n",
       "1  [-0.038136486, 0.01199731, 0.013802515, -0.111...           0.915832   \n",
       "2  [-0.031529076, 0.017592212, 0.0175504, -0.0346...           0.960580   \n",
       "3  [-0.030862274, 0.006396856, -0.0153435385, -0....           0.885713   \n",
       "4  [-0.037090085, 0.028250685, -0.0085480325, -0....           0.937368   \n",
       "\n",
       "   Human score  \n",
       "0         1.00  \n",
       "1         0.76  \n",
       "2         0.76  \n",
       "3         0.52  \n",
       "4         0.85  "
      ]
     },
     "execution_count": 7,
     "metadata": {},
     "output_type": "execute_result"
    }
   ],
   "source": [
    "embeddings.head()"
   ]
  },
  {
   "cell_type": "code",
   "execution_count": null,
   "id": "eb853d58",
   "metadata": {},
   "outputs": [],
   "source": []
  }
 ],
 "metadata": {
  "kernelspec": {
   "display_name": "torch",
   "language": "python",
   "name": "python3"
  },
  "language_info": {
   "codemirror_mode": {
    "name": "ipython",
    "version": 3
   },
   "file_extension": ".py",
   "mimetype": "text/x-python",
   "name": "python",
   "nbconvert_exporter": "python",
   "pygments_lexer": "ipython3",
   "version": "3.12.4"
  }
 },
 "nbformat": 4,
 "nbformat_minor": 5
}
