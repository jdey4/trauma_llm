{
 "cells": [
  {
   "cell_type": "code",
   "execution_count": 1,
   "id": "c83eb452",
   "metadata": {},
   "outputs": [
    {
     "name": "stderr",
     "output_type": "stream",
     "text": [
      "/opt/anaconda3/envs/torch/lib/python3.12/site-packages/tqdm/auto.py:21: TqdmWarning: IProgress not found. Please update jupyter and ipywidgets. See https://ipywidgets.readthedocs.io/en/stable/user_install.html\n",
      "  from .autonotebook import tqdm as notebook_tqdm\n"
     ]
    }
   ],
   "source": [
    "from datasets import load_dataset\n",
    "from google import genai\n",
    "from tenacity import retry, wait_exponential, stop_after_attempt\n",
    "import os\n",
    "import time\n",
    "import pandas as pd\n",
    "from scipy.spatial.distance import cosine\n",
    "import pickle\n",
    "from tqdm import tqdm \n",
    "from google.genai import types"
   ]
  },
  {
   "cell_type": "code",
   "execution_count": 2,
   "id": "93841597",
   "metadata": {},
   "outputs": [
    {
     "name": "stdout",
     "output_type": "stream",
     "text": [
      "Loaded 100 examples. Sample:\n",
      "{'sentence1': 'Here, looking for agents that could specifically kill KRAS mutant cells, they found that knockdown of GATA2 was synthetically lethal with KRAS mutation', 'sentence2': 'Not surprisingly, GATA2 knockdown in KRAS mutant cells resulted in a striking reduction of active GTP-bound RHO proteins, including the downstream ROCK kinase', 'score': 2.200000047683716} \n",
      "\n"
     ]
    }
   ],
   "source": [
    "# Load dataset\n",
    "#dataset = load_dataset(\"sentence-transformers/stsb\", split=\"train\")\n",
    "dataset = load_dataset(\"tabilab/biosses\", split=\"train\")\n",
    "print(f\"Loaded {len(dataset)} examples. Sample:\")\n",
    "print(dataset[0], \"\\n\")\n"
   ]
  },
  {
   "cell_type": "code",
   "execution_count": 3,
   "id": "b27f4756",
   "metadata": {},
   "outputs": [],
   "source": [
    "# Set your Google API key (best via environment variable)\n",
    "client = genai.Client(api_key=os.getenv(\"GOOGLE_GENERATIVE_AI_API_KEY\")) "
   ]
  },
  {
   "cell_type": "code",
   "execution_count": 4,
   "id": "782c6842",
   "metadata": {},
   "outputs": [],
   "source": [
    "# Function to get embedding\n",
    "@retry(wait=wait_exponential(multiplier=1, min=4, max=60), stop=stop_after_attempt(5))\n",
    "def get_embedding(text, model_name=\"gemini-embedding-001\", dim=768):\n",
    "    try:\n",
    "        response = client.models.embed_content(\n",
    "            model = model_name,\n",
    "            contents=text,\n",
    "            config=types.EmbedContentConfig(output_dimensionality=dim)\n",
    "        )\n",
    "\n",
    "        return response.embeddings\n",
    "    \n",
    "    except Exception as e:\n",
    "        print(f\"Error for text: {text[:30]}... => {e}\")\n",
    "        return None"
   ]
  },
  {
   "cell_type": "code",
   "execution_count": 10,
   "id": "c0750870",
   "metadata": {},
   "outputs": [
    {
     "name": "stdout",
     "output_type": "stream",
     "text": [
      "Extracting embedding and measuring similarity ...\n"
     ]
    },
    {
     "name": "stderr",
     "output_type": "stream",
     "text": [
      "100%|██████████| 100/100 [02:20<00:00,  1.40s/it]\n"
     ]
    }
   ],
   "source": [
    "# Generate embeddings for the first few sentence pairs (do not run without need, save results, costs money)\n",
    "dimension = 768\n",
    "model_name = 'gemini-embedding-001'\n",
    "file_to_save = 'biosses/gemini_text-'+model_name+'_dim_'+str(dimension)+'.pickle'\n",
    "embeddings = pd.DataFrame()\n",
    "sentence1 = []\n",
    "sentence2 = []\n",
    "embedding1 = []\n",
    "embedding2 = []\n",
    "cosine_similarity = []\n",
    "human_score = []\n",
    "\n",
    "print('Extracting embedding and measuring similarity ...')\n",
    "time.sleep(1)\n",
    "for idx in tqdm(range(len(dataset))):\n",
    "    first_sentence = dataset[idx][\"sentence1\"]\n",
    "    emb1 = list(get_embedding(first_sentence, model_name, dim=dimension)[0])[0][1]\n",
    "    sentence1.append(\n",
    "        first_sentence\n",
    "    )\n",
    "    embedding1.append(\n",
    "        emb1\n",
    "    )\n",
    "    #############################\n",
    "    second_sentence = dataset[idx][\"sentence2\"]\n",
    "    emb2 = list(get_embedding(second_sentence, model_name, dim=dimension)[0])[0][1]\n",
    "    sentence2.append(\n",
    "        second_sentence\n",
    "    )\n",
    "    embedding2.append(\n",
    "        emb2\n",
    "    )\n",
    "    \n",
    "    ############################\n",
    "    cosine_similarity.append(\n",
    "        1 - cosine(emb1, emb2)\n",
    "    )\n",
    "    human_score.append(\n",
    "        dataset[idx][\"score\"]/4.0\n",
    "    )\n",
    "    \n",
    "    time.sleep(1)  # respect rate limits!\n",
    "\n",
    "embeddings['Sentence 1'] = sentence1\n",
    "embeddings['Sentence 2'] = sentence2\n",
    "embeddings['Embedding of Sentence 1'] = embedding1\n",
    "embeddings['Embedding of Sentence 2'] = embedding2\n",
    "embeddings['Cosine similarity'] = cosine_similarity\n",
    "embeddings['Human score'] = human_score\n",
    "\n",
    "with open(file_to_save, 'wb') as f:\n",
    "    pickle.dump(embeddings, f)"
   ]
  },
  {
   "cell_type": "code",
   "execution_count": 8,
   "id": "660b6c03",
   "metadata": {},
   "outputs": [
    {
     "data": {
      "text/html": [
       "<div>\n",
       "<style scoped>\n",
       "    .dataframe tbody tr th:only-of-type {\n",
       "        vertical-align: middle;\n",
       "    }\n",
       "\n",
       "    .dataframe tbody tr th {\n",
       "        vertical-align: top;\n",
       "    }\n",
       "\n",
       "    .dataframe thead th {\n",
       "        text-align: right;\n",
       "    }\n",
       "</style>\n",
       "<table border=\"1\" class=\"dataframe\">\n",
       "  <thead>\n",
       "    <tr style=\"text-align: right;\">\n",
       "      <th></th>\n",
       "      <th>Sentence 1</th>\n",
       "      <th>Sentence 2</th>\n",
       "      <th>Embedding of Sentence 1</th>\n",
       "      <th>Embedding of Sentence 2</th>\n",
       "      <th>Cosine similarity</th>\n",
       "      <th>Human score</th>\n",
       "    </tr>\n",
       "  </thead>\n",
       "  <tbody>\n",
       "    <tr>\n",
       "      <th>0</th>\n",
       "      <td>Here, looking for agents that could specifical...</td>\n",
       "      <td>Not surprisingly, GATA2 knockdown in KRAS muta...</td>\n",
       "      <td>[0.041973848, 0.028084457, -0.00015977329, -0....</td>\n",
       "      <td>[0.05175928, 0.034314334, -0.008227446, -0.068...</td>\n",
       "      <td>0.835795</td>\n",
       "      <td>0.55</td>\n",
       "    </tr>\n",
       "    <tr>\n",
       "      <th>1</th>\n",
       "      <td>MLL-FKBP and MLL-AF9 transformed cells showed ...</td>\n",
       "      <td>Regardless of the mechanism for transcriptiona...</td>\n",
       "      <td>[-0.004544786, 0.019371057, 0.00059932604, -0....</td>\n",
       "      <td>[-0.008072136, 0.017004538, 0.0044828756, -0.0...</td>\n",
       "      <td>0.873793</td>\n",
       "      <td>0.80</td>\n",
       "    </tr>\n",
       "    <tr>\n",
       "      <th>2</th>\n",
       "      <td>The oncogenic activity of mutant Kras appears ...</td>\n",
       "      <td>Oncogenic KRAS mutations are common in cancer.</td>\n",
       "      <td>[0.011584494, 0.015489457, 0.004773209, -0.067...</td>\n",
       "      <td>[0.03410616, 0.009374501, 0.00034309138, -0.05...</td>\n",
       "      <td>0.747346</td>\n",
       "      <td>0.50</td>\n",
       "    </tr>\n",
       "    <tr>\n",
       "      <th>3</th>\n",
       "      <td>Consequently miRNAs have been demonstrated to ...</td>\n",
       "      <td>Given the extensive involvement of miRNA in ph...</td>\n",
       "      <td>[0.015258154, 0.010334861, -0.0064169425, -0.0...</td>\n",
       "      <td>[0.014204325, -0.0097979475, -0.011153166, -0....</td>\n",
       "      <td>0.765303</td>\n",
       "      <td>0.70</td>\n",
       "    </tr>\n",
       "    <tr>\n",
       "      <th>4</th>\n",
       "      <td>We then sought to reassess the regulation of m...</td>\n",
       "      <td>Importantly, our reassessment revealed that th...</td>\n",
       "      <td>[0.019466532, 0.0012507971, -0.018862067, -0.0...</td>\n",
       "      <td>[0.007889474, -0.019908652, -0.0050982917, -0....</td>\n",
       "      <td>0.817216</td>\n",
       "      <td>0.60</td>\n",
       "    </tr>\n",
       "  </tbody>\n",
       "</table>\n",
       "</div>"
      ],
      "text/plain": [
       "                                          Sentence 1  \\\n",
       "0  Here, looking for agents that could specifical...   \n",
       "1  MLL-FKBP and MLL-AF9 transformed cells showed ...   \n",
       "2  The oncogenic activity of mutant Kras appears ...   \n",
       "3  Consequently miRNAs have been demonstrated to ...   \n",
       "4  We then sought to reassess the regulation of m...   \n",
       "\n",
       "                                          Sentence 2  \\\n",
       "0  Not surprisingly, GATA2 knockdown in KRAS muta...   \n",
       "1  Regardless of the mechanism for transcriptiona...   \n",
       "2     Oncogenic KRAS mutations are common in cancer.   \n",
       "3  Given the extensive involvement of miRNA in ph...   \n",
       "4  Importantly, our reassessment revealed that th...   \n",
       "\n",
       "                             Embedding of Sentence 1  \\\n",
       "0  [0.041973848, 0.028084457, -0.00015977329, -0....   \n",
       "1  [-0.004544786, 0.019371057, 0.00059932604, -0....   \n",
       "2  [0.011584494, 0.015489457, 0.004773209, -0.067...   \n",
       "3  [0.015258154, 0.010334861, -0.0064169425, -0.0...   \n",
       "4  [0.019466532, 0.0012507971, -0.018862067, -0.0...   \n",
       "\n",
       "                             Embedding of Sentence 2  Cosine similarity  \\\n",
       "0  [0.05175928, 0.034314334, -0.008227446, -0.068...           0.835795   \n",
       "1  [-0.008072136, 0.017004538, 0.0044828756, -0.0...           0.873793   \n",
       "2  [0.03410616, 0.009374501, 0.00034309138, -0.05...           0.747346   \n",
       "3  [0.014204325, -0.0097979475, -0.011153166, -0....           0.765303   \n",
       "4  [0.007889474, -0.019908652, -0.0050982917, -0....           0.817216   \n",
       "\n",
       "   Human score  \n",
       "0         0.55  \n",
       "1         0.80  \n",
       "2         0.50  \n",
       "3         0.70  \n",
       "4         0.60  "
      ]
     },
     "execution_count": 8,
     "metadata": {},
     "output_type": "execute_result"
    }
   ],
   "source": [
    "embeddings.head()"
   ]
  },
  {
   "cell_type": "code",
   "execution_count": null,
   "id": "eb853d58",
   "metadata": {},
   "outputs": [],
   "source": []
  }
 ],
 "metadata": {
  "kernelspec": {
   "display_name": "torch",
   "language": "python",
   "name": "python3"
  },
  "language_info": {
   "codemirror_mode": {
    "name": "ipython",
    "version": 3
   },
   "file_extension": ".py",
   "mimetype": "text/x-python",
   "name": "python",
   "nbconvert_exporter": "python",
   "pygments_lexer": "ipython3",
   "version": "3.12.4"
  }
 },
 "nbformat": 4,
 "nbformat_minor": 5
}
