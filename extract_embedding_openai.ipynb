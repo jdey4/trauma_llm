{
 "cells": [
  {
   "cell_type": "code",
   "execution_count": 1,
   "id": "c83eb452",
   "metadata": {},
   "outputs": [
    {
     "name": "stderr",
     "output_type": "stream",
     "text": [
      "/opt/anaconda3/envs/torch/lib/python3.12/site-packages/tqdm/auto.py:21: TqdmWarning: IProgress not found. Please update jupyter and ipywidgets. See https://ipywidgets.readthedocs.io/en/stable/user_install.html\n",
      "  from .autonotebook import tqdm as notebook_tqdm\n"
     ]
    }
   ],
   "source": [
    "from datasets import load_dataset\n",
    "import openai\n",
    "import os\n",
    "import time\n",
    "import pandas as pd\n",
    "from scipy.spatial.distance import cosine\n",
    "import pickle\n",
    "from tqdm import tqdm "
   ]
  },
  {
   "cell_type": "code",
   "execution_count": 5,
   "id": "93841597",
   "metadata": {},
   "outputs": [
    {
     "name": "stderr",
     "output_type": "stream",
     "text": [
      "Generating train split: 100%|██████████| 100/100 [00:00<00:00, 10798.93 examples/s]"
     ]
    },
    {
     "name": "stdout",
     "output_type": "stream",
     "text": [
      "Loaded 100 examples. Sample:\n",
      "{'sentence1': 'Here, looking for agents that could specifically kill KRAS mutant cells, they found that knockdown of GATA2 was synthetically lethal with KRAS mutation', 'sentence2': 'Not surprisingly, GATA2 knockdown in KRAS mutant cells resulted in a striking reduction of active GTP-bound RHO proteins, including the downstream ROCK kinase', 'score': 2.200000047683716} \n",
      "\n"
     ]
    },
    {
     "name": "stderr",
     "output_type": "stream",
     "text": [
      "\n"
     ]
    }
   ],
   "source": [
    "# Load dataset\n",
    "#dataset = load_dataset(\"sentence-transformers/stsb\", split=\"train\")\n",
    "dataset = load_dataset(\"tabilab/biosses\", split=\"train\")\n",
    "print(f\"Loaded {len(dataset)} examples. Sample:\")\n",
    "print(dataset[0], \"\\n\")\n"
   ]
  },
  {
   "cell_type": "code",
   "execution_count": 6,
   "id": "b27f4756",
   "metadata": {},
   "outputs": [],
   "source": [
    "# Set your OpenAI API key (best via environment variable)\n",
    "openai.api_key = os.getenv(\"OPENAI_API_KEY\")"
   ]
  },
  {
   "cell_type": "code",
   "execution_count": 11,
   "id": "782c6842",
   "metadata": {},
   "outputs": [],
   "source": [
    "# Function to get embedding\n",
    "def get_embedding(text, model=\"text-embedding-3-large\"):\n",
    "    response = openai.embeddings.create(\n",
    "        model=model,\n",
    "        input=[text]\n",
    "    )\n",
    "    # Extract the embedding vector\n",
    "    return response.data[0].embedding"
   ]
  },
  {
   "cell_type": "code",
   "execution_count": 12,
   "id": "c0750870",
   "metadata": {},
   "outputs": [
    {
     "name": "stdout",
     "output_type": "stream",
     "text": [
      "Extracting embedding and measuring similarity ...\n"
     ]
    },
    {
     "name": "stderr",
     "output_type": "stream",
     "text": [
      "100%|██████████| 100/100 [03:28<00:00,  2.08s/it]\n"
     ]
    }
   ],
   "source": [
    "# Generate embeddings for the first few sentence pairs (do not run without need, save results, costs money)\n",
    "file_to_save = 'biosses/openai_text-embedding-3-large.pickle'\n",
    "embeddings = pd.DataFrame()\n",
    "sentence1 = []\n",
    "sentence2 = []\n",
    "embedding1 = []\n",
    "embedding2 = []\n",
    "cosine_similarity = []\n",
    "human_score = []\n",
    "\n",
    "print('Extracting embedding and measuring similarity ...')\n",
    "time.sleep(1)\n",
    "for idx in tqdm(range(len(dataset))):\n",
    "    first_sentence = dataset[idx][\"sentence1\"]\n",
    "    emb1 = get_embedding(first_sentence)\n",
    "    sentence1.append(\n",
    "        first_sentence\n",
    "    )\n",
    "    embedding1.append(\n",
    "        emb1\n",
    "    )\n",
    "    #############################\n",
    "    second_sentence = dataset[idx][\"sentence2\"]\n",
    "    emb2 = get_embedding(second_sentence)\n",
    "    sentence2.append(\n",
    "        second_sentence\n",
    "    )\n",
    "    embedding2.append(\n",
    "        emb2\n",
    "    )\n",
    "    \n",
    "    ############################\n",
    "    cosine_similarity.append(\n",
    "        1 - cosine(emb1, emb2)\n",
    "    )\n",
    "    human_score.append(\n",
    "        dataset[idx][\"score\"]/4.0\n",
    "    )\n",
    "    \n",
    "    time.sleep(1)  # respect rate limits!\n",
    "\n",
    "embeddings['Sentence 1'] = sentence1\n",
    "embeddings['Sentence 2'] = sentence2\n",
    "embeddings['Embedding of Sentence 1'] = embedding1\n",
    "embeddings['Embedding of Sentence 2'] = embedding2\n",
    "embeddings['Cosine similarity'] = cosine_similarity\n",
    "embeddings['Human score'] = human_score\n",
    "\n",
    "with open(file_to_save, 'wb') as f:\n",
    "    pickle.dump(embeddings, f)"
   ]
  },
  {
   "cell_type": "code",
   "execution_count": 13,
   "id": "660b6c03",
   "metadata": {},
   "outputs": [
    {
     "data": {
      "text/html": [
       "<div>\n",
       "<style scoped>\n",
       "    .dataframe tbody tr th:only-of-type {\n",
       "        vertical-align: middle;\n",
       "    }\n",
       "\n",
       "    .dataframe tbody tr th {\n",
       "        vertical-align: top;\n",
       "    }\n",
       "\n",
       "    .dataframe thead th {\n",
       "        text-align: right;\n",
       "    }\n",
       "</style>\n",
       "<table border=\"1\" class=\"dataframe\">\n",
       "  <thead>\n",
       "    <tr style=\"text-align: right;\">\n",
       "      <th></th>\n",
       "      <th>Sentence 1</th>\n",
       "      <th>Sentence 2</th>\n",
       "      <th>Embedding of Sentence 1</th>\n",
       "      <th>Embedding of Sentence 2</th>\n",
       "      <th>Cosine similarity</th>\n",
       "      <th>Human score</th>\n",
       "    </tr>\n",
       "  </thead>\n",
       "  <tbody>\n",
       "    <tr>\n",
       "      <th>0</th>\n",
       "      <td>Here, looking for agents that could specifical...</td>\n",
       "      <td>Not surprisingly, GATA2 knockdown in KRAS muta...</td>\n",
       "      <td>[-0.013234409503638744, -0.006376287434250116,...</td>\n",
       "      <td>[0.014252624474465847, 0.013045219704508781, -...</td>\n",
       "      <td>0.686539</td>\n",
       "      <td>0.55</td>\n",
       "    </tr>\n",
       "    <tr>\n",
       "      <th>1</th>\n",
       "      <td>MLL-FKBP and MLL-AF9 transformed cells showed ...</td>\n",
       "      <td>Regardless of the mechanism for transcriptiona...</td>\n",
       "      <td>[0.025199266150593758, 0.04252807796001434, -0...</td>\n",
       "      <td>[0.029102345928549767, 0.05190785229206085, -0...</td>\n",
       "      <td>0.749075</td>\n",
       "      <td>0.80</td>\n",
       "    </tr>\n",
       "    <tr>\n",
       "      <th>2</th>\n",
       "      <td>The oncogenic activity of mutant Kras appears ...</td>\n",
       "      <td>Oncogenic KRAS mutations are common in cancer.</td>\n",
       "      <td>[-0.01700298674404621, 0.0015223498921841383, ...</td>\n",
       "      <td>[-0.028718745335936546, 0.00742156570777297, -...</td>\n",
       "      <td>0.595304</td>\n",
       "      <td>0.50</td>\n",
       "    </tr>\n",
       "    <tr>\n",
       "      <th>3</th>\n",
       "      <td>Consequently miRNAs have been demonstrated to ...</td>\n",
       "      <td>Given the extensive involvement of miRNA in ph...</td>\n",
       "      <td>[-0.008369757793843746, 0.031594742089509964, ...</td>\n",
       "      <td>[-0.01659364625811577, 0.02505677565932274, -0...</td>\n",
       "      <td>0.647595</td>\n",
       "      <td>0.70</td>\n",
       "    </tr>\n",
       "    <tr>\n",
       "      <th>4</th>\n",
       "      <td>We then sought to reassess the regulation of m...</td>\n",
       "      <td>Importantly, our reassessment revealed that th...</td>\n",
       "      <td>[-0.000885025248862803, 0.01873880811035633, -...</td>\n",
       "      <td>[0.015441286377608776, 0.033518191426992416, -...</td>\n",
       "      <td>0.654500</td>\n",
       "      <td>0.60</td>\n",
       "    </tr>\n",
       "  </tbody>\n",
       "</table>\n",
       "</div>"
      ],
      "text/plain": [
       "                                          Sentence 1  \\\n",
       "0  Here, looking for agents that could specifical...   \n",
       "1  MLL-FKBP and MLL-AF9 transformed cells showed ...   \n",
       "2  The oncogenic activity of mutant Kras appears ...   \n",
       "3  Consequently miRNAs have been demonstrated to ...   \n",
       "4  We then sought to reassess the regulation of m...   \n",
       "\n",
       "                                          Sentence 2  \\\n",
       "0  Not surprisingly, GATA2 knockdown in KRAS muta...   \n",
       "1  Regardless of the mechanism for transcriptiona...   \n",
       "2     Oncogenic KRAS mutations are common in cancer.   \n",
       "3  Given the extensive involvement of miRNA in ph...   \n",
       "4  Importantly, our reassessment revealed that th...   \n",
       "\n",
       "                             Embedding of Sentence 1  \\\n",
       "0  [-0.013234409503638744, -0.006376287434250116,...   \n",
       "1  [0.025199266150593758, 0.04252807796001434, -0...   \n",
       "2  [-0.01700298674404621, 0.0015223498921841383, ...   \n",
       "3  [-0.008369757793843746, 0.031594742089509964, ...   \n",
       "4  [-0.000885025248862803, 0.01873880811035633, -...   \n",
       "\n",
       "                             Embedding of Sentence 2  Cosine similarity  \\\n",
       "0  [0.014252624474465847, 0.013045219704508781, -...           0.686539   \n",
       "1  [0.029102345928549767, 0.05190785229206085, -0...           0.749075   \n",
       "2  [-0.028718745335936546, 0.00742156570777297, -...           0.595304   \n",
       "3  [-0.01659364625811577, 0.02505677565932274, -0...           0.647595   \n",
       "4  [0.015441286377608776, 0.033518191426992416, -...           0.654500   \n",
       "\n",
       "   Human score  \n",
       "0         0.55  \n",
       "1         0.80  \n",
       "2         0.50  \n",
       "3         0.70  \n",
       "4         0.60  "
      ]
     },
     "execution_count": 13,
     "metadata": {},
     "output_type": "execute_result"
    }
   ],
   "source": [
    "embeddings.head()"
   ]
  },
  {
   "cell_type": "code",
   "execution_count": null,
   "id": "ef57ca46",
   "metadata": {},
   "outputs": [],
   "source": []
  }
 ],
 "metadata": {
  "kernelspec": {
   "display_name": "torch",
   "language": "python",
   "name": "python3"
  },
  "language_info": {
   "codemirror_mode": {
    "name": "ipython",
    "version": 3
   },
   "file_extension": ".py",
   "mimetype": "text/x-python",
   "name": "python",
   "nbconvert_exporter": "python",
   "pygments_lexer": "ipython3",
   "version": "3.12.4"
  }
 },
 "nbformat": 4,
 "nbformat_minor": 5
}
