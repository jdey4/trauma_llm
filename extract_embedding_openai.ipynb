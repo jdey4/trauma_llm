{
 "cells": [
  {
   "cell_type": "code",
   "execution_count": 1,
   "id": "c83eb452",
   "metadata": {},
   "outputs": [
    {
     "name": "stderr",
     "output_type": "stream",
     "text": [
      "/opt/anaconda3/envs/torch/lib/python3.12/site-packages/tqdm/auto.py:21: TqdmWarning: IProgress not found. Please update jupyter and ipywidgets. See https://ipywidgets.readthedocs.io/en/stable/user_install.html\n",
      "  from .autonotebook import tqdm as notebook_tqdm\n"
     ]
    }
   ],
   "source": [
    "from datasets import load_dataset\n",
    "import openai\n",
    "import os\n",
    "import time\n",
    "import pandas as pd\n",
    "from scipy.spatial.distance import cosine\n",
    "import pickle\n",
    "from tqdm import tqdm "
   ]
  },
  {
   "cell_type": "code",
   "execution_count": 2,
   "id": "93841597",
   "metadata": {},
   "outputs": [
    {
     "name": "stdout",
     "output_type": "stream",
     "text": [
      "Loaded 5749 examples. Sample:\n",
      "{'sentence1': 'A plane is taking off.', 'sentence2': 'An air plane is taking off.', 'score': 1.0} \n",
      "\n"
     ]
    }
   ],
   "source": [
    "# Load dataset\n",
    "dataset = load_dataset(\"sentence-transformers/stsb\", split=\"train\")\n",
    "print(f\"Loaded {len(dataset)} examples. Sample:\")\n",
    "print(dataset[0], \"\\n\")\n"
   ]
  },
  {
   "cell_type": "code",
   "execution_count": 3,
   "id": "b27f4756",
   "metadata": {},
   "outputs": [],
   "source": [
    "# Set your OpenAI API key (best via environment variable)\n",
    "openai.api_key = os.getenv(\"OPENAI_API_KEY\")"
   ]
  },
  {
   "cell_type": "code",
   "execution_count": 4,
   "id": "782c6842",
   "metadata": {},
   "outputs": [],
   "source": [
    "# Function to get embedding\n",
    "def get_embedding(text, model=\"text-embedding-3-small\"):\n",
    "    response = openai.embeddings.create(\n",
    "        model=model,\n",
    "        input=[text]\n",
    "    )\n",
    "    # Extract the embedding vector\n",
    "    return response.data[0].embedding"
   ]
  },
  {
   "cell_type": "code",
   "execution_count": 5,
   "id": "c0750870",
   "metadata": {},
   "outputs": [
    {
     "name": "stdout",
     "output_type": "stream",
     "text": [
      "Extracting embedding and measuring similarity ...\n"
     ]
    },
    {
     "name": "stderr",
     "output_type": "stream",
     "text": [
      "100%|██████████| 5749/5749 [2:40:54<00:00,  1.68s/it]  \n"
     ]
    }
   ],
   "source": [
    "# Generate embeddings for the first few sentence pairs (do not run without need, save results, costs money)\n",
    "file_to_save = 'openai_text-embedding-3-small.pickle'\n",
    "embeddings = pd.DataFrame()\n",
    "sentence1 = []\n",
    "sentence2 = []\n",
    "embedding1 = []\n",
    "embedding2 = []\n",
    "cosine_similarity = []\n",
    "human_score = []\n",
    "\n",
    "print('Extracting embedding and measuring similarity ...')\n",
    "time.sleep(1)\n",
    "for idx in tqdm(range(len(dataset))):\n",
    "    first_sentence = dataset[idx][\"sentence1\"]\n",
    "    emb1 = get_embedding(first_sentence)\n",
    "    sentence1.append(\n",
    "        first_sentence\n",
    "    )\n",
    "    embedding1.append(\n",
    "        emb1\n",
    "    )\n",
    "    #############################\n",
    "    second_sentence = dataset[idx][\"sentence2\"]\n",
    "    emb2 = get_embedding(second_sentence)\n",
    "    sentence2.append(\n",
    "        second_sentence\n",
    "    )\n",
    "    embedding2.append(\n",
    "        emb2\n",
    "    )\n",
    "    \n",
    "    ############################\n",
    "    cosine_similarity.append(\n",
    "        1 - cosine(emb1, emb2)\n",
    "    )\n",
    "    human_score.append(\n",
    "        dataset[idx][\"score\"]\n",
    "    )\n",
    "    \n",
    "    time.sleep(1)  # respect rate limits!\n",
    "\n",
    "embeddings['Sentence 1'] = sentence1\n",
    "embeddings['Sentence 2'] = sentence2\n",
    "embeddings['Embedding of Sentence 1'] = embedding1\n",
    "embeddings['Embedding of Sentence 2'] = embedding2\n",
    "embeddings['Cosine similarity'] = cosine_similarity\n",
    "embeddings['Human score'] = human_score\n",
    "\n",
    "with open(file_to_save, 'wb') as f:\n",
    "    pickle.dump(embeddings, f)"
   ]
  },
  {
   "cell_type": "code",
   "execution_count": 6,
   "id": "660b6c03",
   "metadata": {},
   "outputs": [
    {
     "data": {
      "text/html": [
       "<div>\n",
       "<style scoped>\n",
       "    .dataframe tbody tr th:only-of-type {\n",
       "        vertical-align: middle;\n",
       "    }\n",
       "\n",
       "    .dataframe tbody tr th {\n",
       "        vertical-align: top;\n",
       "    }\n",
       "\n",
       "    .dataframe thead th {\n",
       "        text-align: right;\n",
       "    }\n",
       "</style>\n",
       "<table border=\"1\" class=\"dataframe\">\n",
       "  <thead>\n",
       "    <tr style=\"text-align: right;\">\n",
       "      <th></th>\n",
       "      <th>Sentence 1</th>\n",
       "      <th>Sentence 2</th>\n",
       "      <th>Embedding of Sentence 1</th>\n",
       "      <th>Embedding of Sentence 2</th>\n",
       "      <th>Cosine similarity</th>\n",
       "      <th>Human score</th>\n",
       "    </tr>\n",
       "  </thead>\n",
       "  <tbody>\n",
       "    <tr>\n",
       "      <th>0</th>\n",
       "      <td>A plane is taking off.</td>\n",
       "      <td>An air plane is taking off.</td>\n",
       "      <td>[-0.013315110467374325, 0.043752722442150116, ...</td>\n",
       "      <td>[-0.009698853828012943, 0.02614845149219036, 0...</td>\n",
       "      <td>0.922164</td>\n",
       "      <td>1.00</td>\n",
       "    </tr>\n",
       "    <tr>\n",
       "      <th>1</th>\n",
       "      <td>A man is playing a large flute.</td>\n",
       "      <td>A man is playing a flute.</td>\n",
       "      <td>[0.029255172237753868, 0.002963797189295292, 0...</td>\n",
       "      <td>[-0.018380073830485344, 0.0007290428038686514,...</td>\n",
       "      <td>0.833169</td>\n",
       "      <td>0.76</td>\n",
       "    </tr>\n",
       "    <tr>\n",
       "      <th>2</th>\n",
       "      <td>A man is spreading shreded cheese on a pizza.</td>\n",
       "      <td>A man is spreading shredded cheese on an uncoo...</td>\n",
       "      <td>[0.008580912835896015, -0.015802349895238876, ...</td>\n",
       "      <td>[0.020928939804434776, -0.014739884063601494, ...</td>\n",
       "      <td>0.927993</td>\n",
       "      <td>0.76</td>\n",
       "    </tr>\n",
       "    <tr>\n",
       "      <th>3</th>\n",
       "      <td>Three men are playing chess.</td>\n",
       "      <td>Two men are playing chess.</td>\n",
       "      <td>[0.013227542862296104, 0.030965756624937057, 0...</td>\n",
       "      <td>[0.005606312304735184, 0.01778590679168701, 0....</td>\n",
       "      <td>0.857325</td>\n",
       "      <td>0.52</td>\n",
       "    </tr>\n",
       "    <tr>\n",
       "      <th>4</th>\n",
       "      <td>A man is playing the cello.</td>\n",
       "      <td>A man seated is playing the cello.</td>\n",
       "      <td>[-0.004435026086866856, 0.004739934112876654, ...</td>\n",
       "      <td>[-0.0126184755936265, -0.01696082018315792, 0....</td>\n",
       "      <td>0.822483</td>\n",
       "      <td>0.85</td>\n",
       "    </tr>\n",
       "  </tbody>\n",
       "</table>\n",
       "</div>"
      ],
      "text/plain": [
       "                                      Sentence 1  \\\n",
       "0                         A plane is taking off.   \n",
       "1                A man is playing a large flute.   \n",
       "2  A man is spreading shreded cheese on a pizza.   \n",
       "3                   Three men are playing chess.   \n",
       "4                    A man is playing the cello.   \n",
       "\n",
       "                                          Sentence 2  \\\n",
       "0                        An air plane is taking off.   \n",
       "1                          A man is playing a flute.   \n",
       "2  A man is spreading shredded cheese on an uncoo...   \n",
       "3                         Two men are playing chess.   \n",
       "4                 A man seated is playing the cello.   \n",
       "\n",
       "                             Embedding of Sentence 1  \\\n",
       "0  [-0.013315110467374325, 0.043752722442150116, ...   \n",
       "1  [0.029255172237753868, 0.002963797189295292, 0...   \n",
       "2  [0.008580912835896015, -0.015802349895238876, ...   \n",
       "3  [0.013227542862296104, 0.030965756624937057, 0...   \n",
       "4  [-0.004435026086866856, 0.004739934112876654, ...   \n",
       "\n",
       "                             Embedding of Sentence 2  Cosine similarity  \\\n",
       "0  [-0.009698853828012943, 0.02614845149219036, 0...           0.922164   \n",
       "1  [-0.018380073830485344, 0.0007290428038686514,...           0.833169   \n",
       "2  [0.020928939804434776, -0.014739884063601494, ...           0.927993   \n",
       "3  [0.005606312304735184, 0.01778590679168701, 0....           0.857325   \n",
       "4  [-0.0126184755936265, -0.01696082018315792, 0....           0.822483   \n",
       "\n",
       "   Human score  \n",
       "0         1.00  \n",
       "1         0.76  \n",
       "2         0.76  \n",
       "3         0.52  \n",
       "4         0.85  "
      ]
     },
     "execution_count": 6,
     "metadata": {},
     "output_type": "execute_result"
    }
   ],
   "source": [
    "embeddings.head()"
   ]
  },
  {
   "cell_type": "code",
   "execution_count": null,
   "id": "ef57ca46",
   "metadata": {},
   "outputs": [],
   "source": []
  }
 ],
 "metadata": {
  "kernelspec": {
   "display_name": "torch",
   "language": "python",
   "name": "python3"
  },
  "language_info": {
   "codemirror_mode": {
    "name": "ipython",
    "version": 3
   },
   "file_extension": ".py",
   "mimetype": "text/x-python",
   "name": "python",
   "nbconvert_exporter": "python",
   "pygments_lexer": "ipython3",
   "version": "3.12.4"
  }
 },
 "nbformat": 4,
 "nbformat_minor": 5
}
